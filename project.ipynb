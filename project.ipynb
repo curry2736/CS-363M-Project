{
  "nbformat": 4,
  "nbformat_minor": 0,
  "metadata": {
    "colab": {
      "provenance": []
    },
    "kernelspec": {
      "name": "python3",
      "display_name": "Python 3"
    },
    "language_info": {
      "name": "python"
    }
  },
  "cells": [
    {
      "cell_type": "code",
      "source": [
        "import warnings\n",
        "#warnings.simplefilter(\"ignore\")\n",
        "import pandas as pd\n",
        "import numpy as np\n",
        "import sklearn as sk\n",
        "import matplotlib.pyplot as plt\n",
        "import time"
      ],
      "metadata": {
        "id": "_eClIG5DJiXb"
      },
      "execution_count": null,
      "outputs": []
    },
    {
      "cell_type": "code",
      "source": [
        "STAT_COLUMNS = [\n",
        "    'st', 'carav', 'g', \n",
        "    'cmp', 'pass_att', 'pass_yds', 'pass_td', 'pass_int',\n",
        "    'rush_att', 'rush_yds', 'rush_tds',\n",
        "    'rec', 'rec_yds', 'rec_tds', 'tkl',\n",
        "    'def_int'\n",
        "]"
      ],
      "metadata": {
        "id": "5b767zvwLy_a"
      },
      "execution_count": null,
      "outputs": []
    },
    {
      "cell_type": "code",
      "execution_count": null,
      "metadata": {
        "id": "u94NfhtBITTX"
      },
      "outputs": [],
      "source": [
        "data = pd.read_csv(\"nfl_draft.csv\")\n",
        "data.drop(['column_a','player_id','tm', 'hof', 'college_univ'], axis=1, inplace=True)\n",
        "\n",
        "def transform(x):\n",
        "  if(x['year'] <= 1993):\n",
        "    x['rnd'] = 1 + int(x['pick'] / 32)\n",
        "  return x\n",
        "\n",
        "data = data.apply(func=transform, axis=1, result_type='broadcast')\n",
        "features = data[STAT_COLUMNS].fillna(0)\n",
        "labels = data['rnd']\n",
        "labels[labels > 3] = 4"
      ]
    },
    {
      "cell_type": "code",
      "source": [
        "from sklearn.model_selection import train_test_split\n",
        "\n",
        "X_train, X_test, y_train, y_test = train_test_split(features, labels, test_size=0.20)\n",
        "\n",
        "y_train = y_train.astype('int')\n",
        "y_test = y_test.astype('int')\n",
        "\n",
        "from sklearn.tree import DecisionTreeClassifier\n",
        "from sklearn.model_selection import cross_val_score\n",
        "\n",
        "dtc = DecisionTreeClassifier(criterion=\"entropy\")\n",
        "dtc.fit(X_train, y_train)\n",
        "\n",
        "from sklearn.naive_bayes import GaussianNB\n",
        "\n",
        "accuracies = cross_val_score(GaussianNB(), X=features, y=labels.astype('int'), cv=10)\n",
        "\n",
        "print('Accuracy of model:', accuracy_score(y_test, dtc.predict(X_test)))\n",
        "print('Accuracy of model (gaussianNB):', sum(accuracies)/len(accuracies))\n"
      ],
      "metadata": {
        "colab": {
          "base_uri": "https://localhost:8080/"
        },
        "id": "fKcj4FuPJDlN",
        "outputId": "fcb61238-f1b8-4404-857b-4980eaa34a92"
      },
      "execution_count": null,
      "outputs": [
        {
          "output_type": "stream",
          "name": "stdout",
          "text": [
            "Accuracy of model: 0.5678719620628334\n",
            "Accuracy of model (gaussianNB): 0.6387702180769426\n"
          ]
        }
      ]
    }
  ]
}